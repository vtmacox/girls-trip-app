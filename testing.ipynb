{
 "cells": [
  {
   "cell_type": "code",
   "execution_count": 3,
   "metadata": {
    "vscode": {
     "languageId": "python"
    }
   },
   "outputs": [],
   "source": [
    "import json\n",
    "import requests"
   ]
  },
  {
   "cell_type": "code",
   "execution_count": 4,
   "metadata": {
    "vscode": {
     "languageId": "python"
    }
   },
   "outputs": [],
   "source": [
    "def read_airport_data_from_url(url):\n",
    "    \"\"\"Reads airport data from a JSON file at a given URL.\n",
    "\n",
    "    Args:\n",
    "        url: The URL of the JSON file.\n",
    "\n",
    "    Returns:\n",
    "        A dictionary containing the airport data, or None if an error occurs.\n",
    "    \"\"\"\n",
    "    try:\n",
    "        response = requests.get(url, timeout=10)  # Added timeout for robustness\n",
    "        response.raise_for_status()  # Raise HTTPError for bad responses (4xx or 5xx)\n",
    "        airport_data = response.json()\n",
    "        return airport_data\n",
    "    except requests.exceptions.RequestException as e:\n",
    "        print(f\"Error fetching data from {url}: {e}\")\n",
    "        return None\n",
    "    except json.JSONDecodeError as e:\n",
    "        print(f\"Error: Invalid JSON format in the data from {url}: {e}\")\n",
    "        return None\n",
    "    except Exception as e:\n",
    "        print(f\"An unexpected error occurred: {e}\")\n",
    "        return None"
   ]
  },
  {
   "cell_type": "code",
   "execution_count": 5,
   "metadata": {
    "vscode": {
     "languageId": "python"
    }
   },
   "outputs": [],
   "source": [
    "url = \"https://raw.githubusercontent.com/Jonty/airline-route-data/main/airline_routes.json\"\n",
    "airport_data = read_airport_data_from_url(url)"
   ]
  },
  {
   "cell_type": "code",
   "execution_count": 6,
   "metadata": {
    "vscode": {
     "languageId": "python"
    }
   },
   "outputs": [],
   "source": [
    "def get_airport_destinations(airport_data, airport_code):\n",
    "    \"\"\"Extracts destination airports for a given airport code.\n",
    "\n",
    "    Args:\n",
    "        airport_data: The loaded airport data (dictionary).\n",
    "        airport_code: The IATA code of the airport.\n",
    "\n",
    "    Returns:\n",
    "        A set of destination airport IATA codes, or an empty set if the airport is not found or has no routes.\n",
    "    \"\"\"\n",
    "    airport_info = airport_data.get(airport_code)\n",
    "    if not airport_info:\n",
    "        print(f\"Airport {airport_code} not found in data.\")\n",
    "        return set()  # Return an empty set\n",
    "\n",
    "    routes = airport_info.get('routes', [])  # Handle missing 'routes' key\n",
    "    destinations = set()\n",
    "    for route in routes:\n",
    "        dest_iata = route.get('iata') # Handle missing 'iata' key in routes\n",
    "        if dest_iata:\n",
    "            destinations.add(dest_iata)\n",
    "    return destinations\n"
   ]
  },
  {
   "cell_type": "code",
   "execution_count": 8,
   "metadata": {
    "vscode": {
     "languageId": "python"
    }
   },
   "outputs": [],
   "source": [
    "def find_common_destinations(airport_data, airport1, airport2):\n",
    "    \"\"\"Finds the common destination airports between two airports.\n",
    "\n",
    "    Args:\n",
    "        airport_data: The loaded airport data (dictionary).\n",
    "        airport1: The IATA code of the first airport.\n",
    "        airport2: The IATA code of the second airport.\n",
    "\n",
    "    Returns:\n",
    "        A set of common destination airport IATA codes.\n",
    "    \"\"\"\n",
    "    destinations1 = get_airport_destinations(airport_data, airport1)\n",
    "    destinations2 = get_airport_destinations(airport_data, airport2)\n",
    "\n",
    "    common_destinations = destinations1.intersection(destinations2)\n",
    "    return common_destinations"
   ]
  },
  {
   "cell_type": "code",
   "execution_count": 9,
   "metadata": {
    "vscode": {
     "languageId": "python"
    }
   },
   "outputs": [],
   "source": [
    "airport1_code = \"SEA\"  # Seattle-Tacoma International Airport\n",
    "airport2_code = \"BOS\"  # Logan International Airport\n",
    "\n",
    "common_destinations = find_common_destinations(airport_data, airport1_code, airport2_code)"
   ]
  },
  {
   "cell_type": "code",
   "execution_count": 10,
   "metadata": {
    "vscode": {
     "languageId": "python"
    }
   },
   "outputs": [
    {
     "data": {
      "text/plain": [
       "{'AMS',\n",
       " 'ATL',\n",
       " 'AUS',\n",
       " 'BNA',\n",
       " 'BUF',\n",
       " 'BWI',\n",
       " 'BZN',\n",
       " 'CDG',\n",
       " 'CHS',\n",
       " 'CLE',\n",
       " 'CLT',\n",
       " 'CMH',\n",
       " 'CUN',\n",
       " 'CVG',\n",
       " 'DAL',\n",
       " 'DCA',\n",
       " 'DEN',\n",
       " 'DFW',\n",
       " 'DOH',\n",
       " 'DTW',\n",
       " 'DUB',\n",
       " 'DXB',\n",
       " 'EWR',\n",
       " 'FLL',\n",
       " 'FRA',\n",
       " 'HDN',\n",
       " 'HNL',\n",
       " 'IAD',\n",
       " 'IAH',\n",
       " 'ICN',\n",
       " 'IND',\n",
       " 'IST',\n",
       " 'JFK',\n",
       " 'KEF',\n",
       " 'LAS',\n",
       " 'LAX',\n",
       " 'LHR',\n",
       " 'LIR',\n",
       " 'MCI',\n",
       " 'MCO',\n",
       " 'MDT',\n",
       " 'MDW',\n",
       " 'MEX',\n",
       " 'MIA',\n",
       " 'MKE',\n",
       " 'MSP',\n",
       " 'MSY',\n",
       " 'MUC',\n",
       " 'NAS',\n",
       " 'NRT',\n",
       " 'ORD',\n",
       " 'PDX',\n",
       " 'PEK',\n",
       " 'PHL',\n",
       " 'PHX',\n",
       " 'PIT',\n",
       " 'RDU',\n",
       " 'RSW',\n",
       " 'SAN',\n",
       " 'SAT',\n",
       " 'SFO',\n",
       " 'SJC',\n",
       " 'SLC',\n",
       " 'SMF',\n",
       " 'STL',\n",
       " 'TPA',\n",
       " 'YUL',\n",
       " 'YVR',\n",
       " 'YYC',\n",
       " 'YYZ',\n",
       " 'ZRH'}"
      ]
     },
     "execution_count": null,
     "metadata": {},
     "output_type": "execute_result"
    }
   ],
   "source": [
    "common_destinations"
   ]
  },
  {
   "cell_type": "code",
   "execution_count": null,
   "metadata": {
    "vscode": {
     "languageId": "python"
    }
   },
   "outputs": [],
   "source": [
    "\n",
    "if __name__ == \"__main\":\n",
    "    # Example usage:\n",
    "    url = \"https://raw.githubusercontent.com/Jonty/airline-route-data/main/airline_routes.json\"\n",
    "    airport_data = read_airport_data_from_url(url)\n",
    "\n",
    "    if airport_data:\n",
    "        airport1_code = \"SEA\"  # Seattle-Tacoma International Airport\n",
    "        airport2_code = \"BOS\"  # Logan International Airport\n",
    "\n",
    "        common_destinations = find_common_destinations(airport_data, airport1_code, airport2_code)\n",
    "\n",
    "        if common_destinations:\n",
    "            print(f\"Common destinations between {airport1_code} and {airport2_code}:\")\n",
    "            for dest in common_destinations:\n",
    "                print(dest)\n",
    "        else:\n",
    "            print(f\"No common destinations found between {airport1_code} and {airport2_code}.\")\n",
    "else:\n",
    "    print(\"Failed to load airport data.\")"
   ]
  },
  {
   "cell_type": "code",
   "execution_count": 15,
   "metadata": {
    "vscode": {
     "languageId": "python"
    }
   },
   "outputs": [],
   "source": [
    "import pandas as pd\n",
    "\n",
    "def extract_airport_data(airport_dict):\n",
    "    \"\"\"Extracts IATA, name, and display_name from an airport dictionary and returns a Pandas DataFrame.\n",
    "\n",
    "    Args:\n",
    "        airport_dict: A dictionary where keys are airport codes and values are airport information dictionaries.\n",
    "\n",
    "    Returns:\n",
    "        A Pandas DataFrame containing the extracted data, or an empty DataFrame if the input is invalid.\n",
    "    \"\"\"\n",
    "\n",
    "    data = []\n",
    "    for airport_code, airport_info in airport_dict.items():\n",
    "        iata = airport_info.get('iata')  # Use .get() to handle missing keys safely\n",
    "        name = airport_info.get('name')\n",
    "        display_name = airport_info.get('display_name')\n",
    "\n",
    "        if iata and name and display_name: # Check if the required values are present\n",
    "            data.append({'iata': iata, 'name': name, 'display_name': display_name})\n",
    "        else:\n",
    "            print(f\"Warning: Incomplete data for airport code: {airport_code}. Skipping.\")\n",
    "\n",
    "    df = pd.DataFrame(data)\n",
    "    return df"
   ]
  },
  {
   "cell_type": "code",
   "execution_count": 16,
   "metadata": {
    "vscode": {
     "languageId": "python"
    }
   },
   "outputs": [],
   "source": [
    "airport_df = extract_airport_data(airport_data)"
   ]
  },
  {
   "cell_type": "code",
   "execution_count": null,
   "metadata": {
    "vscode": {
     "languageId": "python"
    }
   },
   "outputs": [],
   "source": [
    "data = {'iata': list(common_destinations)}  # Create a dictionary for the DataFrame\n",
    "df = pd.DataFrame(data)\n",
    "common_destinations_df = df.merge(airport_df, how='left', on='iata')"
   ]
  },
  {
   "cell_type": "code",
   "execution_count": 23,
   "metadata": {
    "vscode": {
     "languageId": "python"
    }
   },
   "outputs": [
    {
     "data": {
      "text/html": [
       "<div>\n",
       "<style scoped>\n",
       "    .dataframe tbody tr th:only-of-type {\n",
       "        vertical-align: middle;\n",
       "    }\n",
       "\n",
       "    .dataframe tbody tr th {\n",
       "        vertical-align: top;\n",
       "    }\n",
       "\n",
       "    .dataframe thead th {\n",
       "        text-align: right;\n",
       "    }\n",
       "</style>\n",
       "<table border=\"1\" class=\"dataframe\">\n",
       "  <thead>\n",
       "    <tr style=\"text-align: right;\">\n",
       "      <th></th>\n",
       "      <th>iata</th>\n",
       "      <th>name</th>\n",
       "      <th>display_name</th>\n",
       "    </tr>\n",
       "  </thead>\n",
       "  <tbody>\n",
       "    <tr>\n",
       "      <th>0</th>\n",
       "      <td>HNL</td>\n",
       "      <td>Honolulu International Airport</td>\n",
       "      <td>Honolulu (HNL), USA</td>\n",
       "    </tr>\n",
       "    <tr>\n",
       "      <th>1</th>\n",
       "      <td>KEF</td>\n",
       "      <td>Keflavík International Airport</td>\n",
       "      <td>Reykjavik (KEF), Iceland</td>\n",
       "    </tr>\n",
       "    <tr>\n",
       "      <th>2</th>\n",
       "      <td>EWR</td>\n",
       "      <td>Newark Liberty International</td>\n",
       "      <td>New York (EWR), USA</td>\n",
       "    </tr>\n",
       "    <tr>\n",
       "      <th>3</th>\n",
       "      <td>ICN</td>\n",
       "      <td>Incheon International Airport</td>\n",
       "      <td>Seoul (ICN), Republic of Korea</td>\n",
       "    </tr>\n",
       "    <tr>\n",
       "      <th>4</th>\n",
       "      <td>CLT</td>\n",
       "      <td>Charlotte Douglas International</td>\n",
       "      <td>Charlotte (CLT), USA</td>\n",
       "    </tr>\n",
       "  </tbody>\n",
       "</table>\n",
       "</div>"
      ],
      "text/plain": [
       "  iata                             name                    display_name\n",
       "0  HNL   Honolulu International Airport             Honolulu (HNL), USA\n",
       "1  KEF   Keflavík International Airport        Reykjavik (KEF), Iceland\n",
       "2  EWR     Newark Liberty International             New York (EWR), USA\n",
       "3  ICN    Incheon International Airport  Seoul (ICN), Republic of Korea\n",
       "4  CLT  Charlotte Douglas International            Charlotte (CLT), USA"
      ]
     },
     "execution_count": null,
     "metadata": {},
     "output_type": "execute_result"
    }
   ],
   "source": [
    "common_destinations_df.head()"
   ]
  },
  {
   "cell_type": "code",
   "execution_count": 24,
   "metadata": {
    "vscode": {
     "languageId": "python"
    }
   },
   "outputs": [],
   "source": [
    "def get_flight_times_df(airport_data, airport1_code, airport2_code, common_destinations):\n",
    "    \"\"\"Gets flight times for common destinations and returns a Pandas DataFrame.\n",
    "\n",
    "    Args:\n",
    "        airport_data: The loaded airport data (dictionary).\n",
    "        airport1_code: IATA code of the first airport.\n",
    "        airport2_code: IATA code of the second airport.\n",
    "        common_destinations: A set of common destination IATA codes.\n",
    "\n",
    "    Returns:\n",
    "        A Pandas DataFrame with columns 'iata', airport1_code, and airport2_code, or an empty DataFrame if no data is found.\n",
    "    \"\"\"\n",
    "\n",
    "    data = []\n",
    "    for dest in common_destinations:\n",
    "        time1 = None\n",
    "        time2 = None\n",
    "\n",
    "        origin1_info = airport_data.get(airport1_code)\n",
    "        if origin1_info:\n",
    "          routes1 = origin1_info.get('routes', [])\n",
    "          for route in routes1:\n",
    "              if route.get('iata') == dest:\n",
    "                  time1 = route.get('min')\n",
    "                  break  # Stop searching once time is found\n",
    "\n",
    "        origin2_info = airport_data.get(airport2_code)\n",
    "        if origin2_info:\n",
    "          routes2 = origin2_info.get('routes', [])\n",
    "          for route in routes2:\n",
    "              if route.get('iata') == dest:\n",
    "                  time2 = route.get('min')\n",
    "                  break  # Stop searching once time is found\n",
    "\n",
    "        data.append({'iata': dest, airport1_code: time1, airport2_code: time2})\n",
    "\n",
    "    df = pd.DataFrame(data)\n",
    "    return df"
   ]
  },
  {
   "cell_type": "code",
   "execution_count": 25,
   "metadata": {
    "vscode": {
     "languageId": "python"
    }
   },
   "outputs": [],
   "source": [
    "df_flights = get_flight_times_df(airport_data, airport1_code, airport2_code, common_destinations)"
   ]
  },
  {
   "cell_type": "code",
   "execution_count": 29,
   "metadata": {
    "vscode": {
     "languageId": "python"
    }
   },
   "outputs": [],
   "source": [
    "common_destinations_df = df_flights.merge(airport_df, how='left', on='iata')\n",
    "common_destinations_df['travel_diff_min'] = common_destinations_df.iloc[:, 1] - common_destinations_df.iloc[:, 2]"
   ]
  },
  {
   "cell_type": "code",
   "execution_count": 30,
   "metadata": {
    "vscode": {
     "languageId": "python"
    }
   },
   "outputs": [
    {
     "data": {
      "text/html": [
       "<div>\n",
       "<style scoped>\n",
       "    .dataframe tbody tr th:only-of-type {\n",
       "        vertical-align: middle;\n",
       "    }\n",
       "\n",
       "    .dataframe tbody tr th {\n",
       "        vertical-align: top;\n",
       "    }\n",
       "\n",
       "    .dataframe thead th {\n",
       "        text-align: right;\n",
       "    }\n",
       "</style>\n",
       "<table border=\"1\" class=\"dataframe\">\n",
       "  <thead>\n",
       "    <tr style=\"text-align: right;\">\n",
       "      <th></th>\n",
       "      <th>iata</th>\n",
       "      <th>SEA</th>\n",
       "      <th>BOS</th>\n",
       "      <th>name</th>\n",
       "      <th>display_name</th>\n",
       "      <th>travel_diff_min</th>\n",
       "    </tr>\n",
       "  </thead>\n",
       "  <tbody>\n",
       "    <tr>\n",
       "      <th>0</th>\n",
       "      <td>HNL</td>\n",
       "      <td>377</td>\n",
       "      <td>675</td>\n",
       "      <td>Honolulu International Airport</td>\n",
       "      <td>Honolulu (HNL), USA</td>\n",
       "      <td>-298</td>\n",
       "    </tr>\n",
       "    <tr>\n",
       "      <th>1</th>\n",
       "      <td>KEF</td>\n",
       "      <td>445</td>\n",
       "      <td>315</td>\n",
       "      <td>Keflavík International Airport</td>\n",
       "      <td>Reykjavik (KEF), Iceland</td>\n",
       "      <td>130</td>\n",
       "    </tr>\n",
       "    <tr>\n",
       "      <th>2</th>\n",
       "      <td>EWR</td>\n",
       "      <td>322</td>\n",
       "      <td>88</td>\n",
       "      <td>Newark Liberty International</td>\n",
       "      <td>New York (EWR), USA</td>\n",
       "      <td>234</td>\n",
       "    </tr>\n",
       "    <tr>\n",
       "      <th>3</th>\n",
       "      <td>ICN</td>\n",
       "      <td>700</td>\n",
       "      <td>920</td>\n",
       "      <td>Incheon International Airport</td>\n",
       "      <td>Seoul (ICN), Republic of Korea</td>\n",
       "      <td>-220</td>\n",
       "    </tr>\n",
       "    <tr>\n",
       "      <th>4</th>\n",
       "      <td>CLT</td>\n",
       "      <td>305</td>\n",
       "      <td>152</td>\n",
       "      <td>Charlotte Douglas International</td>\n",
       "      <td>Charlotte (CLT), USA</td>\n",
       "      <td>153</td>\n",
       "    </tr>\n",
       "  </tbody>\n",
       "</table>\n",
       "</div>"
      ],
      "text/plain": [
       "  iata  SEA  BOS                             name  \\\n",
       "0  HNL  377  675   Honolulu International Airport   \n",
       "1  KEF  445  315   Keflavík International Airport   \n",
       "2  EWR  322   88     Newark Liberty International   \n",
       "3  ICN  700  920    Incheon International Airport   \n",
       "4  CLT  305  152  Charlotte Douglas International   \n",
       "\n",
       "                     display_name  travel_diff_min  \n",
       "0             Honolulu (HNL), USA             -298  \n",
       "1        Reykjavik (KEF), Iceland              130  \n",
       "2             New York (EWR), USA              234  \n",
       "3  Seoul (ICN), Republic of Korea             -220  \n",
       "4            Charlotte (CLT), USA              153  "
      ]
     },
     "execution_count": null,
     "metadata": {},
     "output_type": "execute_result"
    }
   ],
   "source": [
    "common_destinations_df.head()"
   ]
  },
  {
   "cell_type": "code",
   "execution_count": 32,
   "metadata": {
    "vscode": {
     "languageId": "python"
    }
   },
   "outputs": [
    {
     "data": {
      "text/html": [
       "<div>\n",
       "<style scoped>\n",
       "    .dataframe tbody tr th:only-of-type {\n",
       "        vertical-align: middle;\n",
       "    }\n",
       "\n",
       "    .dataframe tbody tr th {\n",
       "        vertical-align: top;\n",
       "    }\n",
       "\n",
       "    .dataframe thead th {\n",
       "        text-align: right;\n",
       "    }\n",
       "</style>\n",
       "<table border=\"1\" class=\"dataframe\">\n",
       "  <thead>\n",
       "    <tr style=\"text-align: right;\">\n",
       "      <th></th>\n",
       "      <th>iata</th>\n",
       "      <th>SEA</th>\n",
       "      <th>BOS</th>\n",
       "      <th>name</th>\n",
       "      <th>display_name</th>\n",
       "      <th>travel_diff_min</th>\n",
       "    </tr>\n",
       "  </thead>\n",
       "  <tbody>\n",
       "    <tr>\n",
       "      <th>44</th>\n",
       "      <td>MSP</td>\n",
       "      <td>202</td>\n",
       "      <td>197</td>\n",
       "      <td>Minneapolis St Paul International</td>\n",
       "      <td>Minneapolis (MSP), USA</td>\n",
       "      <td>5</td>\n",
       "    </tr>\n",
       "  </tbody>\n",
       "</table>\n",
       "</div>"
      ],
      "text/plain": [
       "   iata  SEA  BOS                               name            display_name  \\\n",
       "44  MSP  202  197  Minneapolis St Paul International  Minneapolis (MSP), USA   \n",
       "\n",
       "    travel_diff_min  \n",
       "44                5  "
      ]
     },
     "execution_count": null,
     "metadata": {},
     "output_type": "execute_result"
    }
   ],
   "source": [
    "min_travel = common_destinations_df['travel_diff_min'].abs().min()\n",
    "common_destinations_df[common_destinations_df['travel_diff_min']==min_travel]"
   ]
  }
 ],
 "metadata": {
  "language_info": {
   "name": "plaintext"
  }
 },
 "nbformat": 4,
 "nbformat_minor": 2
}
